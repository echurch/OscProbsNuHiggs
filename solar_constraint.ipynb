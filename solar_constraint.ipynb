{
 "cells": [
  {
   "cell_type": "code",
   "execution_count": 1,
   "metadata": {
    "collapsed": false
   },
   "outputs": [],
   "source": [
    "import matplotlib.pyplot as plt\n",
    "import numpy \n",
    "import pdb\n",
    "import math\n",
    "\n",
    "mi = 0.05\n",
    "mH = 10.0E3\n",
    "Eres = mH**2/(2*mi)\n",
    "hbarc = 197 * 1E6 * 1E-15 *100 # eV-cm\n",
    "R = 150E6*1E3*100 # earth-sun distance in cm\n",
    "\n",
    "# http://pdg.lbl.gov/2008/reviews/rpp2008-rev-solar-neutrinos.pdf\n",
    "phi_pp = 5.99E10 # 1/cm^2.sec +/1%\n",
    "phi_Be7 = 4.84E9 # 1/cm^2.sec +/10%\n",
    "Enupp = 0.3E6 # very close to mean of pp flux . Use this rather than properly integrating over dE.\n",
    "EnuBe7 = 0.86E6"
   ]
  },
  {
   "cell_type": "code",
   "execution_count": 35,
   "metadata": {
    "collapsed": false
   },
   "outputs": [],
   "source": [
    "def eqn9(g,E):\n",
    "    Im = g**4 * E/(4*mi**2) * ( Eres/((E-Eres)**2 + (0.5*Eres*g**2)**2) + Eres/((E+Eres)**2 + (0.5*Eres*g**2)**2) ) \n",
    "    xsec = 4*math.pi * Im * hbarc**2\n",
    "    return xsec  # cm^2"
   ]
  },
  {
   "cell_type": "code",
   "execution_count": 36,
   "metadata": {
    "collapsed": false
   },
   "outputs": [
    {
     "name": "stdout",
     "output_type": "stream",
     "text": [
      "7.80302741656e-22\n",
      "7.80302741656e-30\n",
      "7.80302741656e-38\n",
      "703.892551903\n"
     ]
    }
   ],
   "source": [
    "x=eqn9(1E-4,0.8E6)\n",
    "print x\n",
    "x=eqn9(1E-5,0.8E6)\n",
    "print x\n",
    "x=eqn9(1E-7,0.8E6)\n",
    "print x\n",
    "\n",
    "n=1.0E10*300 \n",
    "g=0.000001\n",
    "# rate of reactions in whole sphere centered on sun out to earth = \\Int dr.4pir^2 {xsec * N_targets * flux(r)} \n",
    "r = n*4*math.pi*R**3 * (0.86*eqn9(g,Enupp)*phi_pp  +  0.14*eqn9(g,EnuBe7)*phi_Be7) # 1/sec\n",
    "# The rate that is eaten up that would otherwise get to earth is r * 4pi r_e^2 / 4piR^2\n",
    "# So, the net flux eaten up at earth by our CNB is r/(4pi r_e^2) = r/4piR^2\n",
    "phi_miss = r/(4*math.pi*R**2)\n",
    "\n",
    "print phi_miss\n",
    "# We need phi_miss to be not more than 1.1% of phi_pp+phi_Be7\n"
   ]
  },
  {
   "cell_type": "code",
   "execution_count": 60,
   "metadata": {
    "collapsed": false
   },
   "outputs": [
    {
     "name": "stdout",
     "output_type": "stream",
     "text": [
      "(200, 400)\n",
      "(200, 400)\n"
     ]
    }
   ],
   "source": [
    "ny = numpy.logspace(8, 29, 400)\n",
    "gx = numpy.logspace(-8,0,200)\n",
    "phi_eaten = numpy.empty((gx.size,ny.size))\n",
    "print phi_eaten.shape\n",
    "for i in range(gx.size):   \n",
    "    for j in range(ny.size):\n",
    "        phi_eaten[i,j] = ny[j]*300*R * (0.86*eqn9(gx[i],Enupp)*phi_pp  +  0.14*eqn9(gx[i],EnuBe7)*phi_Be7) \n",
    "        #pdb.set_trace()\n",
    "        #print  str(i) + \" \" + str(j) + \" \" +str(phi_eaten[i,j])\n",
    "print phi_eaten.shape"
   ]
  },
  {
   "cell_type": "code",
   "execution_count": 62,
   "metadata": {
    "collapsed": false
   },
   "outputs": [
    {
     "data": {
      "image/png": "[encoded data removed]",
      "text/plain": [
       "<matplotlib.figure.Figure at 0x10ae21f90>"
      ]
     },
     "metadata": {},
     "output_type": "display_data"
    }
   ],
   "source": [
    "gridX, gridY = numpy.meshgrid(gx, ny)\n",
    "Cols = ['DarkRed','DarkBlue']\n",
    "CS = plt.contour(gridX,gridY,phi_eaten.T/(0.011*(0.86*phi_pp+0.14*phi_Be7)),levels=[0.1,1.0,10.0] )\n",
    "plt.loglog()\n",
    "plt.xlabel('g')\n",
    "plt.ylabel('over-density')\n",
    "plt.title('Scattered solar flux as a fraction of solar flux error')\n",
    "labels = ['0.1', '1.0','10']\n",
    "for i in range(len(labels)):\n",
    "    CS.collections[i].set_label(labels[i])\n",
    "plt.legend(loc='upper right')\n",
    "plt.savefig('solar-constraint.png')\n",
    "plt.show()\n",
    "plt.close()"
   ]
  },
  {
   "cell_type": "code",
   "execution_count": null,
   "metadata": {
    "collapsed": false
   },
   "outputs": [],
   "source": [
    "hbarc"
   ]
  },
  {
   "cell_type": "code",
   "execution_count": 63,
   "metadata": {
    "collapsed": false
   },
   "outputs": [],
   "source": [
    "#phi_eaten/(0.011*(phi_pp+phi_Be7))\n"
   ]
  },
  {
   "cell_type": "code",
   "execution_count": 54,
   "metadata": {
    "collapsed": false
   },
   "outputs": [
    {
     "data": {
      "text/plain": [
       "(400, 200)"
      ]
     },
     "execution_count": 54,
     "metadata": {},
     "output_type": "execute_result"
    }
   ],
   "source": [
    "gridX.shape\n"
   ]
  },
  {
   "cell_type": "code",
   "execution_count": 64,
   "metadata": {
    "collapsed": false
   },
   "outputs": [
    {
     "data": {
      "text/plain": [
       "(200, 400)"
      ]
     },
     "execution_count": 64,
     "metadata": {},
     "output_type": "execute_result"
    }
   ],
   "source": [
    "phi_eaten.shape\n"
   ]
  },
  {
   "cell_type": "code",
   "execution_count": 40,
   "metadata": {
    "collapsed": false
   },
   "outputs": [
    {
     "data": {
      "text/plain": [
       "array([  4.13749173e+03,   1.99962089e+05,   9.66402827e+06,\n",
       "         4.67055745e+08,   2.25724783e+10,   1.09091213e+12,\n",
       "         5.27230222e+13,   2.54806688e+15,   1.23146295e+17,\n",
       "         5.95157452e+18,   2.87635445e+20,   1.39012204e+22])"
      ]
     },
     "execution_count": 40,
     "metadata": {},
     "output_type": "execute_result"
    }
   ],
   "source": [
    "phi_eaten[0:12,20\n",
    "         ]"
   ]
  },
  {
   "cell_type": "code",
   "execution_count": 42,
   "metadata": {
    "collapsed": false
   },
   "outputs": [
    {
     "data": {
      "text/plain": [
       "array([  1.00000000e-08,   2.63665090e-08,   6.95192796e-08,\n",
       "         1.83298071e-07,   4.83293024e-07,   1.27427499e-06,\n",
       "         3.35981829e-06,   8.85866790e-06,   2.33572147e-05,\n",
       "         6.15848211e-05,   1.62377674e-04,   4.28133240e-04,\n",
       "         1.12883789e-03,   2.97635144e-03,   7.84759970e-03,\n",
       "         2.06913808e-02,   5.45559478e-02,   1.43844989e-01,\n",
       "         3.79269019e-01,   1.00000000e+00])"
      ]
     },
     "execution_count": 42,
     "metadata": {},
     "output_type": "execute_result"
    }
   ],
   "source": [
    "gx[0:40\n",
    "  ]\n"
   ]
  },
  {
   "cell_type": "code",
   "execution_count": 44,
   "metadata": {
    "collapsed": false
   },
   "outputs": [
    {
     "data": {
      "text/plain": [
       "array([  2.92613045e-42,   1.41417843e-40,   6.83462572e-39,\n",
       "         3.30312693e-37,   1.59637820e-35,   7.71518449e-34,\n",
       "         3.72869484e-32,   1.80205220e-30,   8.70919259e-29,\n",
       "         4.20909202e-27,   2.03422481e-25,   9.83126660e-24,\n",
       "         4.75138257e-22,   2.29631005e-20,   1.10979063e-18,\n",
       "         5.36354043e-17,   2.59215605e-15,   1.25263964e-13,\n",
       "         6.02340976e-12,   2.34090410e-10])"
      ]
     },
     "execution_count": 44,
     "metadata": {},
     "output_type": "execute_result"
    }
   ],
   "source": [
    "eqn9(gx[0:40\n",
    "       ],Enupp)"
   ]
  },
  {
   "cell_type": "code",
   "execution_count": null,
   "metadata": {
    "collapsed": true
   },
   "outputs": [],
   "source": []
  }
 ],
 "metadata": {
  "kernelspec": {
   "display_name": "Python 2",
   "language": "python",
   "name": "python2"
  },
  "language_info": {
   "codemirror_mode": {
    "name": "ipython",
    "version": 2
   },
   "file_extension": ".py",
   "mimetype": "text/x-python",
   "name": "python",
   "nbconvert_exporter": "python",
   "pygments_lexer": "ipython2",
   "version": "2.7.10"
  }
 },
 "nbformat": 4,
 "nbformat_minor": 2
}

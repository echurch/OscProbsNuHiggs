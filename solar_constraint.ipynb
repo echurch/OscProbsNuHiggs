{
 "cells": [
  {
   "cell_type": "code",
   "execution_count": 1,
   "metadata": {
    "collapsed": false
   },
   "outputs": [],
   "source": [
    "import matplotlib.pyplot as plt\n",
    "import numpy \n",
    "import pdb\n",
    "import math\n",
    "\n",
    "mi = 0.05\n",
    "mH = 10.0E3\n",
    "Eres = mH**2/(2*mi)\n",
    "hbarc = 197 * 1E6 * 1E-15 *100 # eV-cm\n",
    "R = 150E6*1E3*100 # earth-sun distance in cm\n",
    "\n",
    "# http://pdg.lbl.gov/2008/reviews/rpp2008-rev-solar-neutrinos.pdf\n",
    "phi_pp = 5.99E10 # 1/cm^2.sec +/1%\n",
    "phi_Be7 = 4.84E9 # 1/cm^2.sec +/10%\n",
    "Enupp = 0.3E6 # very close to mean of pp flux . Use this rather than properly integrating over dE.\n",
    "EnuBe7 = 0.86E6"
   ]
  },
  {
   "cell_type": "code",
   "execution_count": 35,
   "metadata": {
    "collapsed": false
   },
   "outputs": [],
   "source": [
    "def eqn9(g,E):\n",
    "    Im = g**4 * E/(4*mi**2) * ( Eres/((E-Eres)**2 + (0.5*Eres*g**2)**2) + Eres/((E+Eres)**2 + (0.5*Eres*g**2)**2) ) \n",
    "    xsec = 4*math.pi * Im * hbarc**2\n",
    "    return xsec  # cm^2"
   ]
  },
  {
   "cell_type": "code",
   "execution_count": 36,
   "metadata": {
    "collapsed": false
   },
   "outputs": [
    {
     "name": "stdout",
     "output_type": "stream",
     "text": [
      "7.80302741656e-22\n",
      "7.80302741656e-30\n",
      "7.80302741656e-38\n",
      "703.892551903\n"
     ]
    }
   ],
   "source": [
    "x=eqn9(1E-3,0.8E6)\n",
    "print x\n",
    "x=eqn9(1E-5,0.8E6)\n",
    "print x\n",
    "x=eqn9(1E-7,0.8E6)\n",
    "print x\n",
    "\n",
    "n=1.0E10*300 \n",
    "g=0.000001\n",
    "# rate of reactions in whole sphere centered on sun out to earth = \\Int dr {xsec * N_targets * flux(r)} \n",
    "r = n*4*math.pi*R**3 * (0.86*eqn9(g,Enupp)*phi_pp  +  0.14*eqn9(g,EnuBe7)*phi_Be7) # 1/sec\n",
    "# The rate that is eaten up that would otherwise get to earth is r * 4pi r_e^2 / 4piR^2\n",
    "# So, the net flux eaten up at earth by our CNB is r/(4pi r_e^2) = r/4piR^2\n",
    "phi_miss = r/(4*math.pi*R**2)\n",
    "\n",
    "print phi_miss\n",
    "# We need phi_miss to be not more than 1.1% of phi_pp+phi_Be7\n"
   ]
  },
  {
   "cell_type": "code",
   "execution_count": 47,
   "metadata": {
    "collapsed": false
   },
   "outputs": [
    {
     "name": "stdout",
     "output_type": "stream",
     "text": [
      "(200, 400)\n",
      "(200, 400)\n"
     ]
    }
   ],
   "source": [
    "ny = numpy.logspace(8, 29, 400)\n",
    "gx = numpy.logspace(-8,0,200)\n",
    "phi_eaten = numpy.empty((gx.size,ny.size))\n",
    "print phi_eaten.shape\n",
    "for i in range(gx.size):   \n",
    "    for j in range(ny.size):\n",
    "        phi_eaten[i,j] = ny[j]*300*4*math.pi*R**3 * (0.86*eqn9(gx[i],Enupp)*phi_pp  +  0.14*eqn9(gx[i],EnuBe7)*phi_Be7) / (4*math.pi*R**2)\n",
    "        #pdb.set_trace()\n",
    "        #print  str(i) + \" \" + str(j) + \" \" +str(phi_eaten[i,j])\n",
    "print phi_eaten.shape"
   ]
  },
  {
   "cell_type": "code",
   "execution_count": 48,
   "metadata": {
    "collapsed": false
   },
   "outputs": [
    {
     "data": {
      "image/png": "[encoded data removed]",
      "text/plain": [
       "<matplotlib.figure.Figure at 0x10468b910>"
      ]
     },
     "metadata": {},
     "output_type": "display_data"
    }
   ],
   "source": [
    "gridX, gridY = numpy.meshgrid(gx, ny)\n",
    "Cols = ['DarkRed','DarkBlue']\n",
    "CS = plt.contour(gridX,gridY,phi_eaten.T/(0.011*(phi_pp+phi_Be7)),levels=[0.1,1.0,10.0] )\n",
    "plt.loglog()\n",
    "plt.xlabel('g')\n",
    "plt.ylabel('over-density')\n",
    "plt.title('Scattered solar flux as a fraction of solar flux error')\n",
    "labels = ['0.1', '1.0','1E4']\n",
    "for i in range(len(labels)):\n",
    "    CS.collections[i].set_label(labels[i])\n",
    "plt.legend(loc='upper right')\n",
    "plt.savefig('solar-constraint.png')\n",
    "plt.show()\n",
    "plt.close()"
   ]
  },
  {
   "cell_type": "code",
   "execution_count": 8,
   "metadata": {
    "collapsed": false
   },
   "outputs": [
    {
     "data": {
      "text/plain": [
       "7.761800000000002e-23"
      ]
     },
     "execution_count": 8,
     "metadata": {},
     "output_type": "execute_result"
    }
   ],
   "source": [
    "2*(1E-3)**4/10*hbarc**2\n"
   ]
  },
  {
   "cell_type": "code",
   "execution_count": null,
   "metadata": {
    "collapsed": false
   },
   "outputs": [],
   "source": [
    "hbarc"
   ]
  },
  {
   "cell_type": "code",
   "execution_count": null,
   "metadata": {
    "collapsed": false
   },
   "outputs": [],
   "source": [
    "phi_eaten\n"
   ]
  },
  {
   "cell_type": "code",
   "execution_count": 39,
   "metadata": {
    "collapsed": false
   },
   "outputs": [
    {
     "data": {
      "text/plain": [
       "array([[  9.88418783e-17,   3.41509295e-16,   1.17995126e-15,\n",
       "          4.07685819e-15,   1.40859825e-14,   4.86685808e-14,\n",
       "          1.68155168e-13,   5.80994149e-13,   2.00739712e-12,\n",
       "          6.93577244e-12,   2.39638380e-11,   8.27976313e-11,\n",
       "          2.86074700e-10,   9.88418783e-10,   3.41509295e-09,\n",
       "          1.17995126e-08,   4.07685819e-08,   1.40859825e-07,\n",
       "          4.86685808e-07,   1.68155168e-06,   5.80994149e-06,\n",
       "          2.00739712e-05,   6.93577244e-05,   2.39638380e-04,\n",
       "          8.27976313e-04,   2.86074700e-03,   9.88418783e-03,\n",
       "          3.41509295e-02,   1.17995126e-01,   4.07685819e-01,\n",
       "          1.40859825e+00,   4.86685808e+00,   1.68155168e+01,\n",
       "          5.80994149e+01,   2.00739712e+02,   6.93577244e+02,\n",
       "          2.39638380e+03,   8.27976313e+03,   2.86074700e+04,\n",
       "          9.88418783e+04],\n",
       "       [  4.77695902e-15,   1.65049060e-14,   5.70262210e-14,\n",
       "          1.97031712e-13,   6.80765706e-13,   2.35211856e-12,\n",
       "          8.12682198e-12,   2.80790419e-11,   9.70161025e-11,\n",
       "          3.35201044e-10,   1.15815557e-09,   4.00155176e-09,\n",
       "          1.38257907e-08,   4.77695902e-08,   1.65049060e-07,\n",
       "          5.70262210e-07,   1.97031712e-06,   6.80765706e-06,\n",
       "          2.35211856e-05,   8.12682198e-05,   2.80790419e-04,\n",
       "          9.70161025e-04,   3.35201044e-03,   1.15815557e-02,\n",
       "          4.00155176e-02,   1.38257907e-01,   4.77695902e-01,\n",
       "          1.65049060e+00,   5.70262210e+00,   1.97031712e+01,\n",
       "          6.80765706e+01,   2.35211856e+02,   8.12682198e+02,\n",
       "          2.80790419e+03,   9.70161025e+03,   3.35201044e+04,\n",
       "          1.15815557e+05,   4.00155176e+05,   1.38257907e+06,\n",
       "          4.77695902e+06],\n",
       "       [  2.30867097e-13,   7.97670591e-13,   2.75603748e-12,\n",
       "          9.52240520e-12,   3.29009317e-11,   1.13676249e-10,\n",
       "          3.92763637e-10,   1.35704051e-09,   4.68872056e-09,\n",
       "          1.62000326e-08,   5.59728508e-08,   1.93392205e-07,\n",
       "          6.68190818e-07,   2.30867097e-06,   7.97670591e-06,\n",
       "          2.75603748e-05,   9.52240520e-05,   3.29009317e-04,\n",
       "          1.13676249e-03,   3.92763637e-03,   1.35704051e-02,\n",
       "          4.68872056e-02,   1.62000326e-01,   5.59728508e-01,\n",
       "          1.93392205e+00,   6.68190818e+00,   2.30867097e+01,\n",
       "          7.97670591e+01,   2.75603748e+02,   9.52240520e+02,\n",
       "          3.29009317e+03,   1.13676249e+04,   3.92763637e+04,\n",
       "          1.35704051e+05,   4.68872056e+05,   1.62000326e+06,\n",
       "          5.59728508e+06,   1.93392205e+07,   6.68190818e+07,\n",
       "          2.30867097e+08],\n",
       "       [  1.11576457e-11,   3.85508632e-11,   1.33197369e-10,\n",
       "          4.60211200e-10,   1.59007907e-09,   5.49389381e-09,\n",
       "          1.89819926e-08,   6.55848210e-08,   2.26602594e-07,\n",
       "          7.82936274e-07,   2.70512883e-06,   9.34651036e-06,\n",
       "          3.22931961e-05,   1.11576457e-04,   3.85508632e-04,\n",
       "          1.33197369e-03,   4.60211200e-03,   1.59007907e-02,\n",
       "          5.49389381e-02,   1.89819926e-01,   6.55848210e-01,\n",
       "          2.26602594e+00,   7.82936274e+00,   2.70512883e+01,\n",
       "          9.34651036e+01,   3.22931961e+02,   1.11576457e+03,\n",
       "          3.85508632e+03,   1.33197369e+04,   4.60211200e+04,\n",
       "          1.59007907e+05,   5.49389381e+05,   1.89819926e+06,\n",
       "          6.55848210e+06,   2.26602594e+07,   7.82936274e+07,\n",
       "          2.70512883e+08,   9.34651036e+08,   3.22931961e+09,\n",
       "          1.11576457e+10],\n",
       "       [  5.39241235e-10,   1.86313633e-09,   6.43733591e-09,\n",
       "          2.22416863e-08,   7.68474124e-08,   2.65516055e-07,\n",
       "          9.17386459e-07,   3.16966865e-06,   1.09515453e-05,\n",
       "          3.78387639e-05,   1.30736989e-04,   4.51710325e-04,\n",
       "          1.56070764e-03,   5.39241235e-03,   1.86313633e-02,\n",
       "          6.43733591e-02,   2.22416863e-01,   7.68474124e-01,\n",
       "          2.65516055e+00,   9.17386459e+00,   3.16966865e+01,\n",
       "          1.09515453e+02,   3.78387639e+02,   1.30736989e+03,\n",
       "          4.51710325e+03,   1.56070764e+04,   5.39241235e+04,\n",
       "          1.86313633e+05,   6.43733591e+05,   2.22416863e+06,\n",
       "          7.68474124e+06,   2.65516055e+07,   9.17386459e+07,\n",
       "          3.16966865e+08,   1.09515453e+09,   3.78387639e+09,\n",
       "          1.30736989e+10,   4.51710325e+10,   1.56070764e+11,\n",
       "          5.39241235e+11],\n",
       "       [  2.60611527e-08,   9.00440789e-08,   3.11111954e-07,\n",
       "          1.07492518e-06,   3.71398183e-06,   1.28322057e-05,\n",
       "          4.43366476e-05,   1.53187875e-04,   5.29280543e-04,\n",
       "          1.82872106e-03,   6.31842749e-03,   2.18308449e-02,\n",
       "          7.54279115e-02,   2.60611527e-01,   9.00440789e-01,\n",
       "          3.11111954e+00,   1.07492518e+01,   3.71398183e+01,\n",
       "          1.28322057e+02,   4.43366476e+02,   1.53187875e+03,\n",
       "          5.29280543e+03,   1.82872106e+04,   6.31842749e+04,\n",
       "          2.18308449e+05,   7.54279115e+05,   2.60611527e+06,\n",
       "          9.00440789e+06,   3.11111954e+07,   1.07492518e+08,\n",
       "          3.71398183e+08,   1.28322057e+09,   4.43366476e+09,\n",
       "          1.53187875e+10,   5.29280543e+10,   1.82872106e+11,\n",
       "          6.31842749e+11,   2.18308449e+12,   7.54279115e+12,\n",
       "          2.60611527e+13],\n",
       "       [  1.25951733e-06,   4.35176752e-06,   1.50358237e-05,\n",
       "          5.19503841e-05,   1.79494151e-04,   6.20171551e-04,\n",
       "          2.14275925e-03,   7.40346311e-03,   2.55797594e-02,\n",
       "          8.83808133e-02,   3.05365193e-01,   1.05506950e+00,\n",
       "          3.64537834e+00,   1.25951733e+01,   4.35176752e+01,\n",
       "          1.50358237e+02,   5.19503841e+02,   1.79494151e+03,\n",
       "          6.20171551e+03,   2.14275925e+04,   7.40346311e+04,\n",
       "          2.55797594e+05,   8.83808133e+05,   3.05365193e+06,\n",
       "          1.05506950e+07,   3.64537834e+07,   1.25951733e+08,\n",
       "          4.35176752e+08,   1.50358237e+09,   5.19503841e+09,\n",
       "          1.79494151e+10,   6.20171551e+10,   2.14275925e+11,\n",
       "          7.40346311e+11,   2.55797594e+12,   8.83808133e+12,\n",
       "          3.05365193e+13,   1.05506950e+14,   3.64537834e+14,\n",
       "          1.25951733e+15],\n",
       "       [  6.08715939e-05,   2.10317888e-04,   7.26670870e-04,\n",
       "          2.51072582e-03,   8.67482710e-03,   2.99724584e-02,\n",
       "          1.03558060e-01,   3.57804207e-01,   1.23625193e+00,\n",
       "          4.27138305e+00,   1.47580867e+01,   5.09907731e+01,\n",
       "          1.76178592e+02,   6.08715939e+02,   2.10317888e+03,\n",
       "          7.26670870e+03,   2.51072582e+04,   8.67482710e+04,\n",
       "          2.99724584e+05,   1.03558060e+06,   3.57804207e+06,\n",
       "          1.23625193e+07,   4.27138305e+07,   1.47580867e+08,\n",
       "          5.09907731e+08,   1.76178592e+09,   6.08715939e+09,\n",
       "          2.10317888e+10,   7.26670870e+10,   2.51072582e+11,\n",
       "          8.67482710e+11,   2.99724584e+12,   1.03558060e+13,\n",
       "          3.57804207e+13,   1.23625193e+14,   4.27138305e+14,\n",
       "          1.47580867e+15,   5.09907731e+15,   1.76178592e+16,\n",
       "          6.08715939e+16],\n",
       "       [  2.94188167e-03,   1.01645168e-02,   3.51194962e-02,\n",
       "          1.21341627e-01,   4.19248342e-01,   1.44854801e+00,\n",
       "          5.00488878e+00,   1.72924277e+01,   5.97471932e+01,\n",
       "          2.06432963e+02,   7.13248036e+02,   2.46434849e+03,\n",
       "          8.51458846e+03,   2.94188167e+04,   1.01645168e+05,\n",
       "          3.51194962e+05,   1.21341627e+06,   4.19248342e+06,\n",
       "          1.44854801e+07,   5.00488878e+07,   1.72924277e+08,\n",
       "          5.97471932e+08,   2.06432963e+09,   7.13248036e+09,\n",
       "          2.46434849e+10,   8.51458846e+10,   2.94188167e+11,\n",
       "          1.01645168e+12,   3.51194962e+12,   1.21341627e+13,\n",
       "          4.19248342e+13,   1.44854801e+14,   5.00488878e+14,\n",
       "          1.72924277e+15,   5.97471932e+15,   2.06432963e+16,\n",
       "          7.13248036e+16,   2.46434849e+17,   8.51458846e+17,\n",
       "          2.94188167e+18],\n",
       "       [  1.42179089e-01,   4.91244007e-01,   1.69730075e+00,\n",
       "          5.86435621e+00,   2.02619799e+01,   7.00073146e+01,\n",
       "          2.41882783e+02,   8.35730969e+02,   2.88754017e+03,\n",
       "          9.97676109e+03,   3.44707800e+04,   1.19100244e+05,\n",
       "          4.11504120e+05,   1.42179089e+06,   4.91244007e+06,\n",
       "          1.69730075e+07,   5.86435621e+07,   2.02619799e+08,\n",
       "          7.00073146e+08,   2.41882783e+09,   8.35730969e+09,\n",
       "          2.88754017e+10,   9.97676109e+10,   3.44707800e+11,\n",
       "          1.19100244e+12,   4.11504120e+12,   1.42179089e+13,\n",
       "          4.91244007e+13,   1.69730075e+14,   5.86435621e+14,\n",
       "          2.02619799e+15,   7.00073146e+15,   2.41882783e+16,\n",
       "          8.35730969e+16,   2.88754017e+17,   9.97676109e+17,\n",
       "          3.44707800e+18,   1.19100244e+19,   4.11504120e+19,\n",
       "          1.42179089e+20],\n",
       "       [  6.87141617e+00,   2.37414801e+01,   8.20293612e+01,\n",
       "          2.83420244e+02,   9.79247354e+02,   3.38340468e+03,\n",
       "          1.16900262e+04,   4.03902947e+04,   1.39552802e+05,\n",
       "          4.82169904e+05,   1.66594875e+06,   5.75603168e+06,\n",
       "          1.98877071e+07,   6.87141617e+07,   2.37414801e+08,\n",
       "          8.20293612e+08,   2.83420244e+09,   9.79247354e+09,\n",
       "          3.38340468e+10,   1.16900262e+11,   4.03902947e+11,\n",
       "          1.39552802e+12,   4.82169904e+12,   1.66594875e+13,\n",
       "          5.75603168e+13,   1.98877071e+14,   6.87141617e+14,\n",
       "          2.37414801e+15,   8.20293612e+15,   2.83420244e+16,\n",
       "          9.79247354e+16,   3.38340468e+17,   1.16900262e+18,\n",
       "          4.03902947e+18,   1.39552802e+19,   4.82169904e+19,\n",
       "          1.66594875e+20,   5.75603168e+20,   1.98877071e+21,\n",
       "          6.87141617e+21],\n",
       "       [  3.32090750e+02,   1.14740917e+03,   3.96442180e+03,\n",
       "          1.36975027e+04,   4.73263415e+04,   1.63517588e+05,\n",
       "          5.64970810e+05,   1.95203477e+06,   6.74448956e+06,\n",
       "          2.33029351e+07,   8.05141410e+07,   2.78184996e+08,\n",
       "          9.61159008e+08,   3.32090750e+09,   1.14740917e+10,\n",
       "          3.96442180e+10,   1.36975027e+11,   4.73263415e+11,\n",
       "          1.63517588e+12,   5.64970810e+12,   1.95203477e+13,\n",
       "          6.74448956e+13,   2.33029351e+14,   8.05141410e+14,\n",
       "          2.78184996e+15,   9.61159008e+15,   3.32090750e+16,\n",
       "          1.14740917e+17,   3.96442180e+17,   1.36975027e+18,\n",
       "          4.73263415e+18,   1.63517588e+19,   5.64970810e+19,\n",
       "          1.95203477e+20,   6.74448956e+20,   2.33029351e+21,\n",
       "          8.05141410e+21,   2.78184996e+22,   9.61159008e+22,\n",
       "          3.32090750e+23],\n",
       "       [  1.60497143e+04,   5.54534849e+04,   1.91597740e+05,\n",
       "          6.61990750e+05,   2.28724907e+06,   7.90269094e+06,\n",
       "          2.73046451e+07,   9.43404785e+07,   3.25956475e+08,\n",
       "          1.12621460e+09,   3.89119227e+09,   1.34444868e+10,\n",
       "          4.64521443e+10,   1.60497143e+11,   5.54534849e+11,\n",
       "          1.91597740e+12,   6.61990750e+12,   2.28724907e+13,\n",
       "          7.90269094e+13,   2.73046451e+14,   9.43404785e+14,\n",
       "          3.25956475e+15,   1.12621460e+16,   3.89119227e+16,\n",
       "          1.34444868e+17,   4.64521443e+17,   1.60497143e+18,\n",
       "          5.54534849e+18,   1.91597740e+19,   6.61990750e+19,\n",
       "          2.28724907e+20,   7.90269094e+20,   2.73046451e+21,\n",
       "          9.43404785e+21,   3.25956475e+22,   1.12621460e+23,\n",
       "          3.89119227e+23,   1.34444868e+24,   4.64521443e+24,\n",
       "          1.60497143e+25],\n",
       "       [  7.75671495e+05,   2.68002824e+06,   9.25978512e+06,\n",
       "          3.19935511e+07,   1.10541152e+08,   3.81931540e+08,\n",
       "          1.31961445e+09,   4.55940951e+09,   1.57532491e+10,\n",
       "          5.44291658e+10,   1.88058608e+11,   6.49762667e+11,\n",
       "          2.24499973e+12,   7.75671495e+12,   2.68002824e+13,\n",
       "          9.25978512e+13,   3.19935511e+14,   1.10541152e+15,\n",
       "          3.81931540e+15,   1.31961445e+16,   4.55940951e+16,\n",
       "          1.57532491e+17,   5.44291658e+17,   1.88058608e+18,\n",
       "          6.49762667e+18,   2.24499973e+19,   7.75671495e+19,\n",
       "          2.68002824e+20,   9.25978512e+20,   3.19935511e+21,\n",
       "          1.10541152e+22,   3.81931540e+22,   1.31961445e+23,\n",
       "          4.55940951e+23,   1.57532491e+24,   5.44291658e+24,\n",
       "          1.88058608e+25,   6.49762667e+25,   2.24499973e+26,\n",
       "          7.75671495e+26],\n",
       "       [  3.74876622e+07,   1.29523895e+08,   4.47518955e+08,\n",
       "          1.54622600e+09,   5.34237675e+09,   1.84584849e+10,\n",
       "          6.37760457e+10,   2.20353081e+11,   7.61343537e+11,\n",
       "          2.63052361e+12,   9.08874131e+12,   3.14025764e+13,\n",
       "          1.08499271e+14,   3.74876622e+14,   1.29523895e+15,\n",
       "          4.47518955e+15,   1.54622600e+16,   5.34237675e+16,\n",
       "          1.84584849e+17,   6.37760457e+17,   2.20353081e+18,\n",
       "          7.61343537e+18,   2.63052361e+19,   9.08874131e+19,\n",
       "          3.14025764e+20,   1.08499271e+21,   3.74876622e+21,\n",
       "          1.29523895e+22,   4.47518955e+22,   1.54622600e+23,\n",
       "          5.34237675e+23,   1.84584849e+24,   6.37760457e+24,\n",
       "          2.20353081e+25,   7.61343537e+25,   2.63052361e+26,\n",
       "          9.08874131e+26,   3.14025764e+27,   1.08499271e+28,\n",
       "          3.74876622e+28],\n",
       "       [  1.81175248e+09,   6.25979921e+09,   2.16282779e+10,\n",
       "          7.47280208e+10,   2.58193330e+11,   8.92085657e+11,\n",
       "          3.08225166e+12,   1.06495102e+13,   3.67952004e+13,\n",
       "          1.27131365e+14,   4.39252507e+14,   1.51766454e+15,\n",
       "          5.24369383e+15,   1.81175248e+16,   6.25979921e+16,\n",
       "          2.16282779e+17,   7.47280208e+17,   2.58193330e+18,\n",
       "          8.92085657e+18,   3.08225166e+19,   1.06495102e+20,\n",
       "          3.67952004e+20,   1.27131365e+21,   4.39252507e+21,\n",
       "          1.51766454e+22,   5.24369383e+22,   1.81175248e+23,\n",
       "          6.25979921e+23,   2.16282779e+24,   7.47280208e+24,\n",
       "          2.58193330e+25,   8.92085657e+25,   3.08225166e+26,\n",
       "          1.06495102e+27,   3.67952004e+27,   1.27131365e+28,\n",
       "          4.39252507e+28,   1.51766454e+29,   5.24369383e+29,\n",
       "          1.81175248e+30],\n",
       "       [  8.75605435e+10,   3.02531073e+11,   1.04527732e+12,\n",
       "          3.61154528e+12,   1.24782764e+13,   4.31137840e+13,\n",
       "          1.48962749e+14,   5.14682282e+14,   1.77828251e+15,\n",
       "          6.14415686e+15,   2.12287212e+16,   7.33475095e+16,\n",
       "          2.53423515e+17,   8.75605435e+17,   3.02531073e+18,\n",
       "          1.04527732e+19,   3.61154528e+19,   1.24782764e+20,\n",
       "          4.31137840e+20,   1.48962749e+21,   5.14682282e+21,\n",
       "          1.77828251e+22,   6.14415686e+22,   2.12287212e+23,\n",
       "          7.33475095e+23,   2.53423515e+24,   8.75605435e+24,\n",
       "          3.02531073e+25,   1.04527732e+26,   3.61154528e+26,\n",
       "          1.24782764e+27,   4.31137840e+27,   1.48962749e+28,\n",
       "          5.14682282e+28,   1.77828251e+29,   6.14415686e+29,\n",
       "          2.12287212e+30,   7.33475095e+30,   2.53423515e+31,\n",
       "          8.75605435e+31],\n",
       "       [  4.23129647e+12,   1.46195833e+13,   5.05122289e+13,\n",
       "          1.74525170e+14,   6.03003190e+14,   2.08344072e+15,\n",
       "          7.19851123e+15,   2.48716286e+16,   8.59341456e+16,\n",
       "          2.96911693e+17,   1.02586176e+18,   3.54446244e+18,\n",
       "          1.22464980e+19,   4.23129647e+19,   1.46195833e+20,\n",
       "          5.05122289e+20,   1.74525170e+21,   6.03003190e+21,\n",
       "          2.08344072e+22,   7.19851123e+22,   2.48716286e+23,\n",
       "          8.59341456e+23,   2.96911693e+24,   1.02586176e+25,\n",
       "          3.54446244e+25,   1.22464980e+26,   4.23129647e+26,\n",
       "          1.46195833e+27,   5.05122289e+27,   1.74525170e+28,\n",
       "          6.03003190e+28,   2.08344072e+29,   7.19851123e+29,\n",
       "          2.48716286e+30,   8.59341456e+30,   2.96911693e+31,\n",
       "          1.02586176e+32,   3.54446244e+32,   1.22464980e+33,\n",
       "          4.23129647e+33],\n",
       "       [  2.03465001e+14,   7.02993408e+14,   2.42891765e+15,\n",
       "          8.39217109e+15,   2.89958516e+16,   1.00183778e+17,\n",
       "          3.46145703e+17,   1.19597054e+18,   4.13220655e+18,\n",
       "          1.42772170e+19,   4.93293166e+19,   1.70438081e+20,\n",
       "          5.88881859e+20,   2.03465001e+21,   7.02993408e+21,\n",
       "          2.42891765e+22,   8.39217109e+22,   2.89958516e+23,\n",
       "          1.00183778e+24,   3.46145703e+24,   1.19597054e+25,\n",
       "          4.13220655e+25,   1.42772170e+26,   4.93293166e+26,\n",
       "          1.70438081e+27,   5.88881859e+27,   2.03465001e+28,\n",
       "          7.02993408e+28,   2.42891765e+29,   8.39217109e+29,\n",
       "          2.89958516e+30,   1.00183778e+31,   3.46145703e+31,\n",
       "          1.19597054e+32,   4.13220655e+32,   1.42772170e+33,\n",
       "          4.93293166e+33,   1.70438081e+34,   5.88881859e+34,\n",
       "          2.03465001e+35],\n",
       "       [  7.90734915e+15,   2.73207397e+16,   9.43960871e+16,\n",
       "          3.26148609e+17,   1.12687844e+18,   3.89348591e+18,\n",
       "          1.34524116e+19,   4.64795254e+19,   1.60591747e+20,\n",
       "          5.54861717e+20,   1.91710677e+21,   6.62380957e+21,\n",
       "          2.28859728e+22,   7.90734915e+22,   2.73207397e+23,\n",
       "          9.43960871e+23,   3.26148609e+24,   1.12687844e+25,\n",
       "          3.89348591e+25,   1.34524116e+26,   4.64795254e+26,\n",
       "          1.60591747e+27,   5.54861717e+27,   1.91710677e+28,\n",
       "          6.62380957e+28,   2.28859728e+29,   7.90734915e+29,\n",
       "          2.73207397e+30,   9.43960871e+30,   3.26148609e+31,\n",
       "          1.12687844e+32,   3.89348591e+32,   1.34524116e+33,\n",
       "          4.64795254e+33,   1.60591747e+34,   5.54861717e+34,\n",
       "          1.91710677e+35,   6.62380957e+35,   2.28859728e+36,\n",
       "          7.90734915e+36]])"
      ]
     },
     "execution_count": 39,
     "metadata": {},
     "output_type": "execute_result"
    }
   ],
   "source": [
    "phi_eaten/(0.011*(phi_pp+phi_Be7))\n"
   ]
  },
  {
   "cell_type": "code",
   "execution_count": null,
   "metadata": {
    "collapsed": false
   },
   "outputs": [],
   "source": [
    "gridX\n"
   ]
  },
  {
   "cell_type": "code",
   "execution_count": null,
   "metadata": {
    "collapsed": false
   },
   "outputs": [],
   "source": [
    "gridY\n"
   ]
  },
  {
   "cell_type": "code",
   "execution_count": null,
   "metadata": {
    "collapsed": false
   },
   "outputs": [],
   "source": [
    "phi_eaten.shape\n"
   ]
  },
  {
   "cell_type": "code",
   "execution_count": 40,
   "metadata": {
    "collapsed": false
   },
   "outputs": [
    {
     "data": {
      "text/plain": [
       "array([  4.13749173e+03,   1.99962089e+05,   9.66402827e+06,\n",
       "         4.67055745e+08,   2.25724783e+10,   1.09091213e+12,\n",
       "         5.27230222e+13,   2.54806688e+15,   1.23146295e+17,\n",
       "         5.95157452e+18,   2.87635445e+20,   1.39012204e+22])"
      ]
     },
     "execution_count": 40,
     "metadata": {},
     "output_type": "execute_result"
    }
   ],
   "source": [
    "phi_eaten[0:12,20\n",
    "         ]"
   ]
  },
  {
   "cell_type": "code",
   "execution_count": 41,
   "metadata": {
    "collapsed": false
   },
   "outputs": [
    {
     "name": "stdout",
     "output_type": "stream",
     "text": [
      "(40, 20)\n",
      "(40, 20)\n",
      "(20, 40)\n"
     ]
    }
   ],
   "source": [
    "gridX, gridY = numpy.meshgrid(gx, ny)\n",
    "print gridY.shape\n",
    "print gridX.shape\n",
    "print phi_eaten.shape\n"
   ]
  },
  {
   "cell_type": "code",
   "execution_count": 42,
   "metadata": {
    "collapsed": false
   },
   "outputs": [
    {
     "data": {
      "text/plain": [
       "array([  1.00000000e-08,   2.63665090e-08,   6.95192796e-08,\n",
       "         1.83298071e-07,   4.83293024e-07,   1.27427499e-06,\n",
       "         3.35981829e-06,   8.85866790e-06,   2.33572147e-05,\n",
       "         6.15848211e-05,   1.62377674e-04,   4.28133240e-04,\n",
       "         1.12883789e-03,   2.97635144e-03,   7.84759970e-03,\n",
       "         2.06913808e-02,   5.45559478e-02,   1.43844989e-01,\n",
       "         3.79269019e-01,   1.00000000e+00])"
      ]
     },
     "execution_count": 42,
     "metadata": {},
     "output_type": "execute_result"
    }
   ],
   "source": [
    "gx[0:40\n",
    "  ]\n"
   ]
  },
  {
   "cell_type": "code",
   "execution_count": 13,
   "metadata": {
    "collapsed": false
   },
   "outputs": [
    {
     "data": {
      "text/plain": [
       "300000.0"
      ]
     },
     "execution_count": 13,
     "metadata": {},
     "output_type": "execute_result"
    }
   ],
   "source": [
    "Enupp"
   ]
  },
  {
   "cell_type": "code",
   "execution_count": 14,
   "metadata": {
    "collapsed": false
   },
   "outputs": [
    {
     "data": {
      "text/plain": [
       "860000.0"
      ]
     },
     "execution_count": 14,
     "metadata": {},
     "output_type": "execute_result"
    }
   ],
   "source": [
    "EnuBe7\n"
   ]
  },
  {
   "cell_type": "code",
   "execution_count": 44,
   "metadata": {
    "collapsed": false
   },
   "outputs": [
    {
     "data": {
      "text/plain": [
       "array([  2.92613045e-42,   1.41417843e-40,   6.83462572e-39,\n",
       "         3.30312693e-37,   1.59637820e-35,   7.71518449e-34,\n",
       "         3.72869484e-32,   1.80205220e-30,   8.70919259e-29,\n",
       "         4.20909202e-27,   2.03422481e-25,   9.83126660e-24,\n",
       "         4.75138257e-22,   2.29631005e-20,   1.10979063e-18,\n",
       "         5.36354043e-17,   2.59215605e-15,   1.25263964e-13,\n",
       "         6.02340976e-12,   2.34090410e-10])"
      ]
     },
     "execution_count": 44,
     "metadata": {},
     "output_type": "execute_result"
    }
   ],
   "source": [
    "eqn9(gx[0:40\n",
    "       ],Enupp)"
   ]
  },
  {
   "cell_type": "code",
   "execution_count": 45,
   "metadata": {
    "collapsed": false
   },
   "outputs": [
    {
     "data": {
      "text/plain": [
       "array([  1.19750022e-04,   5.78743501e-03,   2.79702696e-01,\n",
       "         1.35178362e+01,   6.53307593e+02,   3.15739002e+04,\n",
       "         1.52594457e+06,   7.37478366e+07,   3.56418150e+09,\n",
       "         1.72254405e+11,   8.32493524e+12,   4.02338313e+14,\n",
       "         1.94447300e+16,   9.39750234e+17,   4.54174732e+19,\n",
       "         2.19499470e+21,   1.06082332e+23,   5.12634778e+24,\n",
       "         2.46504201e+26,   9.58000038e+27])"
      ]
     },
     "execution_count": 45,
     "metadata": {},
     "output_type": "execute_result"
    }
   ],
   "source": [
    "phi_eaten[0:40,6\n",
    "         ]\n",
    "          "
   ]
  },
  {
   "cell_type": "code",
   "execution_count": 32,
   "metadata": {
    "collapsed": false
   },
   "outputs": [
    {
     "data": {
      "text/plain": [
       "array([[  1.00000000e-08,   1.04724941e-08,   1.09673133e-08, ...,\n",
       "          9.11800339e-01,   9.54882369e-01,   1.00000000e+00],\n",
       "       [  1.00000000e-08,   1.04724941e-08,   1.09673133e-08, ...,\n",
       "          9.11800339e-01,   9.54882369e-01,   1.00000000e+00],\n",
       "       [  1.00000000e-08,   1.04724941e-08,   1.09673133e-08, ...,\n",
       "          9.11800339e-01,   9.54882369e-01,   1.00000000e+00],\n",
       "       ..., \n",
       "       [  1.00000000e-08,   1.04724941e-08,   1.09673133e-08, ...,\n",
       "          9.11800339e-01,   9.54882369e-01,   1.00000000e+00],\n",
       "       [  1.00000000e-08,   1.04724941e-08,   1.09673133e-08, ...,\n",
       "          9.11800339e-01,   9.54882369e-01,   1.00000000e+00],\n",
       "       [  1.00000000e-08,   1.04724941e-08,   1.09673133e-08, ...,\n",
       "          9.11800339e-01,   9.54882369e-01,   1.00000000e+00]])"
      ]
     },
     "execution_count": 32,
     "metadata": {},
     "output_type": "execute_result"
    }
   ],
   "source": [
    "gridX\n"
   ]
  },
  {
   "cell_type": "code",
   "execution_count": null,
   "metadata": {
    "collapsed": true
   },
   "outputs": [],
   "source": []
  }
 ],
 "metadata": {
  "kernelspec": {
   "display_name": "Python 2",
   "language": "python",
   "name": "python2"
  },
  "language_info": {
   "codemirror_mode": {
    "name": "ipython",
    "version": 2
   },
   "file_extension": ".py",
   "mimetype": "text/x-python",
   "name": "python",
   "nbconvert_exporter": "python",
   "pygments_lexer": "ipython2",
   "version": "2.7.10"
  }
 },
 "nbformat": 4,
 "nbformat_minor": 2
}

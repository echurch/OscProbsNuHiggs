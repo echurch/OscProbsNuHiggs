{
 "cells": [
  {
   "cell_type": "code",
   "execution_count": 2,
   "metadata": {
    "collapsed": false
   },
   "outputs": [],
   "source": [
    "import matplotlib.pyplot as plt\n",
    "import numpy \n",
    "import pdb\n",
    "import math\n",
    "\n",
    "mi = 0.05\n",
    "mH = 10.0E3\n",
    "Eres = mH**2/(2*mi)\n",
    "hbarc = 197 * 1E6 * 1E-15 *100 # eV-cm\n",
    "R = 150E6*1E3*100 # earth-sun distance in cm\n",
    "\n",
    "# http://pdg.lbl.gov/2008/reviews/rpp2008-rev-solar-neutrinos.pdf\n",
    "phi_pp = 5.99E10 # 1/cm^2.sec +/1%\n",
    "phi_Be7 = 4.84E9 # 1/cm^2.sec +/10%\n",
    "Enupp = 0.3E6 # very close to mean of pp flux . Use this rather than properly integrating over dE.\n",
    "EnuBe7 = 0.86E6"
   ]
  },
  {
   "cell_type": "code",
   "execution_count": 11,
   "metadata": {
    "collapsed": true
   },
   "outputs": [],
   "source": [
    "\n",
    "\n",
    "def eqn9(g,E):\n",
    "    Im = g**4 * E/(4*mi**2) * ( Eres/((E-Eres)**2 + (0.5*Eres*g**2)**2) + Eres/((E+Eres)**2 + (0.5*Eres*g**2)**2) ) \n",
    "    # see the solar-calc.tex write-up for this next eqn.\n",
    "    xsec = Im * 2*mi/E * hbarc**2\n",
    "    return xsec  # cm^2\n",
    "\n"
   ]
  },
  {
   "cell_type": "code",
   "execution_count": 12,
   "metadata": {
    "collapsed": false
   },
   "outputs": [
    {
     "name": "stdout",
     "output_type": "stream",
     "text": [
      "7.76181490267e-34\n",
      "7.76181490267e-38\n",
      "7.76181490267e-46\n",
      "1.82295396228e-05\n"
     ]
    }
   ],
   "source": [
    "x=eqn9(1E-4,0.8E6)\n",
    "print x\n",
    "x=eqn9(1E-5,0.8E6)\n",
    "print x\n",
    "x=eqn9(1E-7,0.8E6)\n",
    "print x\n",
    "\n",
    "n=1.0E10*300 \n",
    "g=0.000001\n",
    "# rate of reactions in whole sphere centered on sun out to earth = \\Int dr.4pir^2 {xsec * N_targets * flux(r)} \n",
    "r = n*4*math.pi*R**3 * (0.86*eqn9(g,Enupp)*phi_pp  +  0.14*eqn9(g,EnuBe7)*phi_Be7) # 1/sec\n",
    "# The rate that is eaten up that would otherwise get to earth is r * 4pi r_e^2 / 4piR^2\n",
    "# So, the net flux eaten up at earth by our CNB is r/(4pi r_e^2) = r/4piR^2\n",
    "phi_miss = r/(4*math.pi*R**2)\n",
    "\n",
    "print phi_miss\n",
    "# We need phi_miss to be not more than 1.1% of phi_pp+phi_Be7\n"
   ]
  },
  {
   "cell_type": "code",
   "execution_count": 13,
   "metadata": {
    "collapsed": false
   },
   "outputs": [
    {
     "name": "stdout",
     "output_type": "stream",
     "text": [
      "(200, 400)\n",
      "(200, 400)\n"
     ]
    }
   ],
   "source": [
    "ny = numpy.logspace(8, 29, 400)\n",
    "gx = numpy.logspace(-8,0,200)\n",
    "phi_eaten = numpy.empty((gx.size,ny.size))\n",
    "print phi_eaten.shape\n",
    "for i in range(gx.size):   \n",
    "    for j in range(ny.size):\n",
    "        phi_eaten[i,j] = ny[j]*300*R * (0.86*eqn9(gx[i],Enupp)*phi_pp  +  0.14*eqn9(gx[i],EnuBe7)*phi_Be7) \n",
    "        #pdb.set_trace()\n",
    "        #print  str(i) + \" \" + str(j) + \" \" +str(phi_eaten[i,j])\n",
    "print phi_eaten.shape"
   ]
  },
  {
   "cell_type": "code",
   "execution_count": 14,
   "metadata": {
    "collapsed": false
   },
   "outputs": [
    {
     "data": {
      "image/png": "[encoded data removed]",
      "text/plain": [
       "<matplotlib.figure.Figure at 0x10af5b290>"
      ]
     },
     "metadata": {},
     "output_type": "display_data"
    }
   ],
   "source": [
    "gridX, gridY = numpy.meshgrid(gx, ny)\n",
    "Cols = ['DarkRed','DarkBlue']\n",
    "CS = plt.contour(gridX,gridY,phi_eaten.T/(0.011*(0.86*phi_pp+0.14*phi_Be7)),levels=[0.1,1.0,10.0] )\n",
    "plt.loglog()\n",
    "plt.xlabel('g')\n",
    "plt.ylabel('over-density')\n",
    "plt.title('Scattered solar flux as a fraction of solar flux error')\n",
    "labels = ['0.1', '1.0','10']\n",
    "for i in range(len(labels)):\n",
    "    CS.collections[i].set_label(labels[i])\n",
    "plt.legend(loc='upper right')\n",
    "plt.savefig('solar-constraint.png')\n",
    "plt.show()\n",
    "plt.close()"
   ]
  },
  {
   "cell_type": "code",
   "execution_count": null,
   "metadata": {
    "collapsed": false
   },
   "outputs": [],
   "source": [
    "hbarc"
   ]
  },
  {
   "cell_type": "code",
   "execution_count": null,
   "metadata": {
    "collapsed": false
   },
   "outputs": [],
   "source": [
    "#phi_eaten/(0.011*(phi_pp+phi_Be7))\n"
   ]
  },
  {
   "cell_type": "code",
   "execution_count": null,
   "metadata": {
    "collapsed": false
   },
   "outputs": [],
   "source": [
    "gridX.shape\n"
   ]
  },
  {
   "cell_type": "code",
   "execution_count": null,
   "metadata": {
    "collapsed": false
   },
   "outputs": [],
   "source": [
    "phi_eaten.shape\n"
   ]
  },
  {
   "cell_type": "code",
   "execution_count": null,
   "metadata": {
    "collapsed": false
   },
   "outputs": [],
   "source": [
    "phi_eaten[0:12,20\n",
    "         ]"
   ]
  },
  {
   "cell_type": "code",
   "execution_count": null,
   "metadata": {
    "collapsed": false
   },
   "outputs": [],
   "source": [
    "gx[0:40\n",
    "  ]\n"
   ]
  },
  {
   "cell_type": "code",
   "execution_count": null,
   "metadata": {
    "collapsed": false
   },
   "outputs": [],
   "source": [
    "eqn9(gx[0:40\n",
    "       ],Enupp)"
   ]
  },
  {
   "cell_type": "code",
   "execution_count": null,
   "metadata": {
    "collapsed": false
   },
   "outputs": [],
   "source": [
    "eqn9(0.001,Enupp)*300*1e16*R"
   ]
  },
  {
   "cell_type": "code",
   "execution_count": null,
   "metadata": {
    "collapsed": true
   },
   "outputs": [],
   "source": []
  }
 ],
 "metadata": {
  "kernelspec": {
   "display_name": "Python 2",
   "language": "python",
   "name": "python2"
  },
  "language_info": {
   "codemirror_mode": {
    "name": "ipython",
    "version": 2
   },
   "file_extension": ".py",
   "mimetype": "text/x-python",
   "name": "python",
   "nbconvert_exporter": "python",
   "pygments_lexer": "ipython2",
   "version": "2.7.10"
  }
 },
 "nbformat": 4,
 "nbformat_minor": 2
}

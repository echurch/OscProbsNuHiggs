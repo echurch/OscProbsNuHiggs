{
 "cells": [
  {
   "cell_type": "code",
   "execution_count": 71,
   "metadata": {
    "collapsed": false
   },
   "outputs": [],
   "source": [
    "import matplotlib.pyplot as plt\n",
    "import numpy \n",
    "import pdb\n",
    "import math\n",
    "\n",
    "mi = 0.05\n",
    "mH = 10.0E3\n",
    "Eres = mH**2/(2*mi)\n",
    "hbarc = 197 * 1E6 * 1E-15 *100 # eV-cm\n",
    "R = 150E6*1E3*100 # earth-sun distance in cm\n",
    "\n",
    "# http://pdg.lbl.gov/2008/reviews/rpp2008-rev-solar-neutrinos.pdf\n",
    "phi_pp = 5.99E10 # 1/cm^2.sec +/1%\n",
    "phi_Be7 = 4.84E9 # 1/cm^2.sec +/10%\n",
    "Enupp = 0.3E6 # very close to mean of pp flux . Use this rather than properly integrating over dE.\n",
    "EnuBe7 = 0.86E6"
   ]
  },
  {
   "cell_type": "code",
   "execution_count": 72,
   "metadata": {
    "collapsed": true
   },
   "outputs": [],
   "source": [
    "def eqn9(g,E):\n",
    "    Im = g**4*E/(4*mi**2) * ( Eres/((E-Eres)**2 + (0.5*Eres*g**2)**2) + Eres/((E+Eres)*2 + (0.5*Eres*g**2)**2) )\n",
    "    xsec = 4*math.pi * Im * hbarc**2\n",
    "    return xsec  # cm^2"
   ]
  },
  {
   "cell_type": "code",
   "execution_count": 93,
   "metadata": {
    "collapsed": false
   },
   "outputs": [
    {
     "name": "stdout",
     "output_type": "stream",
     "text": [
      "1.94919375759e-21\n",
      "1.75916725575e+11\n"
     ]
    }
   ],
   "source": [
    "x=eqn9(1E-5,0.8E6)\n",
    "print x\n",
    "\n",
    "n=1.0E10*300 \n",
    "g=0.000001\n",
    "# rate of reactions in whole sphere centered on sun out to earth = \\Int dr {xsec * N_targets * flux(r)} \n",
    "r = n*4*math.pi*R**3 * (0.86*eqn14(g,Enupp)*phi_pp  +  0.14*eqn14(g,EnuBe7)*phi_Be7) # 1/sec\n",
    "# The rate that is eaten up that would otherwise get to earth is r * 4pi r_e^2 / 4piR^2\n",
    "# So, the net flux eaten up at earth by our CNB is r/(4pi r_e^2) = r/4piR^2\n",
    "phi_miss = r/(4*math.pi*R**2)\n",
    "\n",
    "print phi_miss\n",
    "# We need phi_miss to be not more than 1.1% of phi_pp+phi_Be7\n"
   ]
  },
  {
   "cell_type": "code",
   "execution_count": 116,
   "metadata": {
    "collapsed": false
   },
   "outputs": [],
   "source": [
    "ny = numpy.logspace(8, 11, 50)\n",
    "gx = numpy.logspace(-8,0,50)\n",
    "phi_eaten = numpy.empty((gx.size,ny.size))\n",
    "#pdb.set_trace()\n",
    "for i in range(gx.size):   \n",
    "    for j in range(ny.size):\n",
    "        phi_eaten[i,j] = ny[j]*300*4*math.pi*R**3 * (0.86*eqn9(gx[i],Enupp)*phi_pp  +  0.14*eqn9(gx[i],EnuBe7)*phi_Be7) / (4*math.pi*R**2)\n",
    "        #pdb.set_trace()\n",
    "        #print  str(i) + \" \" + str(j) + \" \" +str(phi_eaten[i,j])"
   ]
  },
  {
   "cell_type": "code",
   "execution_count": 126,
   "metadata": {
    "collapsed": false
   },
   "outputs": [
    {
     "data": {
      "image/png": "[encoded data removed]",
      "text/plain": [
       "<matplotlib.figure.Figure at 0x10ea66150>"
      ]
     },
     "metadata": {},
     "output_type": "display_data"
    }
   ],
   "source": [
    "gridX, gridY = numpy.meshgrid(gx, ny)\n",
    "Cols = ['DarkRed','DarkBlue']\n",
    "CS = plt.contour(gridX,gridY,phi_eaten/(0.011*(phi_pp+phi_Be7)),levels=(0.1,1.0,1E4))\n",
    "plt.loglog()\n",
    "plt.xlabel('g')\n",
    "plt.ylabel('over-density')\n",
    "plt.title('Scattered solar flux as a fraction of solar flux error')\n",
    "labels = ['0.1', '1.0','1E4']\n",
    "for i in range(len(labels)):\n",
    "    CS.collections[i].set_label(labels[i])\n",
    "plt.legend(loc='upper right')\n",
    "plt.savefig('solar-constraint.png')\n",
    "plt.show()\n",
    "plt.close()"
   ]
  },
  {
   "cell_type": "code",
   "execution_count": 124,
   "metadata": {
    "collapsed": false
   },
   "outputs": [
    {
     "data": {
      "text/plain": [
       "7.761800000000002e-23"
      ]
     },
     "execution_count": 124,
     "metadata": {},
     "output_type": "execute_result"
    }
   ],
   "source": [
    "2*(1E-3)**4/10*hbarc**2\n"
   ]
  },
  {
   "cell_type": "code",
   "execution_count": null,
   "metadata": {
    "collapsed": true
   },
   "outputs": [],
   "source": []
  }
 ],
 "metadata": {
  "kernelspec": {
   "display_name": "Python 2",
   "language": "python",
   "name": "python2"
  },
  "language_info": {
   "codemirror_mode": {
    "name": "ipython",
    "version": 2
   },
   "file_extension": ".py",
   "mimetype": "text/x-python",
   "name": "python",
   "nbconvert_exporter": "python",
   "pygments_lexer": "ipython2",
   "version": "2.7.10"
  }
 },
 "nbformat": 4,
 "nbformat_minor": 2
}
